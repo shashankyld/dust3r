{
 "cells": [
  {
   "cell_type": "code",
   "execution_count": 6,
   "metadata": {},
   "outputs": [
    {
     "name": "stdout",
     "output_type": "stream",
     "text": [
      "Estimated distortion parameters: [0. 0. 0. 0. 0.]\n"
     ]
    }
   ],
   "source": [
    "import numpy as np\n",
    "from scipy.optimize import minimize\n",
    "\n",
    "def estimate_distortion_params(distorted_images, undistorted_images, K_undistorted):\n",
    "    # Assuming distortion parameters to be estimated (k1, k2, p1, p2, k3)\n",
    "    initial_params = np.zeros(5)  # Initial guess for distortion parameters (k1, k2, p1, p2, k3)\n",
    "\n",
    "    # Define the objective function to minimize\n",
    "    def objective_function(params):\n",
    "        k1, k2, p1, p2, k3 = params\n",
    "\n",
    "        # Initialize total error\n",
    "        total_error = 0\n",
    "\n",
    "        for distorted_img, undistorted_img in zip(distorted_images, undistorted_images):\n",
    "            # Undistorted points based on the intrinsic matrix K_undistorted\n",
    "            h, w = distorted_img.shape[:2]\n",
    "            grid_x, grid_y = np.meshgrid(np.arange(w), np.arange(h))\n",
    "            points = np.stack([grid_x, grid_y], axis=-1).reshape(-1, 2)\n",
    "\n",
    "            # Apply distortion model\n",
    "            r2 = np.sum(points ** 2, axis=-1)\n",
    "            r4 = r2 ** 2\n",
    "            radial_distortion = 1 + k1 * r2 + k2 * r4 + k3 * r4 * r2\n",
    "            tangential_distortion_x = 2 * p1 * points[:, 0] * points[:, 1] + p2 * (r2 + 2 * points[:, 0] ** 2)\n",
    "            tangential_distortion_y = p1 * (r2 + 2 * points[:, 1] ** 2) + 2 * p2 * points[:, 0] * points[:, 1]\n",
    "\n",
    "            # Calculate the distorted points by applying radial and tangential distortion\n",
    "            distorted_points = points * radial_distortion[:, None] + np.stack([tangential_distortion_x, tangential_distortion_y], axis=-1)\n",
    "\n",
    "            # Reshape distorted points back to image grid\n",
    "            distorted_points = distorted_points.reshape(h, w, 2)\n",
    "\n",
    "            # Convert distorted image to grayscale\n",
    "            distorted_img_grayscale = distorted_img.mean(axis=-1)\n",
    "\n",
    "            # Calculate the error between projected points and distorted image points\n",
    "            u, v = distorted_points[..., 0], distorted_points[..., 1]\n",
    "\n",
    "            # Ensure u and v are within image bounds\n",
    "            u = np.clip(u, 0, w - 1)\n",
    "            v = np.clip(v, 0, h - 1)\n",
    "\n",
    "            # Create an error map based on the grayscale values at the projected coordinates\n",
    "            error_map = distorted_img_grayscale[v.astype(int), u.astype(int)]\n",
    "\n",
    "            # Sum squared differences\n",
    "            total_error += np.sum((error_map - distorted_img_grayscale) ** 2)\n",
    "\n",
    "        return float(total_error)  # Ensure the error is a scalar\n",
    "\n",
    "    # Perform optimization\n",
    "    result = minimize(objective_function, initial_params, method='L-BFGS-B')\n",
    "    estimated_params = result.x\n",
    "\n",
    "    return estimated_params\n",
    "\n",
    "\n",
    "# Example usage:\n",
    "\n",
    "# Example distorted and undistorted image data (replace with actual images)\n",
    "distorted_images = [np.random.rand(480, 640, 3) for _ in range(5)]  # List of distorted images\n",
    "undistorted_images = [np.random.rand(480, 640, 3) for _ in range(5)]  # List of undistorted images\n",
    "\n",
    "# Example camera intrinsic matrix (K_undistorted)\n",
    "K_undistorted = np.array([[1000, 0, 500], [0, 1000, 500], [0, 0, 1]])\n",
    "\n",
    "# Estimate distortion parameters\n",
    "estimated_params = estimate_distortion_params(distorted_images, undistorted_images, K_undistorted)\n",
    "print(\"Estimated distortion parameters:\", estimated_params)\n"
   ]
  }
 ],
 "metadata": {
  "kernelspec": {
   "display_name": "dust3r",
   "language": "python",
   "name": "python3"
  },
  "language_info": {
   "codemirror_mode": {
    "name": "ipython",
    "version": 3
   },
   "file_extension": ".py",
   "mimetype": "text/x-python",
   "name": "python",
   "nbconvert_exporter": "python",
   "pygments_lexer": "ipython3",
   "version": "3.11.9"
  }
 },
 "nbformat": 4,
 "nbformat_minor": 2
}
