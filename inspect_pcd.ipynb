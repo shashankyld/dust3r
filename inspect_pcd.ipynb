{
 "cells": [
  {
   "cell_type": "code",
   "execution_count": null,
   "metadata": {},
   "outputs": [],
   "source": [
    "import config as cfg\n",
    "import open3d as o3d\n",
    "import numpy as np\n",
    "pcd = o3d.io.read_point_cloud(cfg.OUTPUT_DIR + \"/scene.pcd\")\n",
    "\n",
    "# Print values of the point cloud after numpy conversion\n",
    "print(pcd)\n",
    "print(np.asarray(pcd.points))\n",
    "# Max and min values of the point cloud\n",
    "distances = [np.linalg.norm(p) for p in np.asarray(pcd.points)]\n",
    "print('Max:', np.max(distances))\n",
    "print('Min:', np.min(distances))\n"
   ]
  },
  {
   "cell_type": "code",
   "execution_count": null,
   "metadata": {},
   "outputs": [],
   "source": [
    "import open3d as o3d\n",
    "\n",
    "# Load the .glb file\n",
    "mesh = o3d.io.read_triangle_mesh(\"temp_test/scene.glb\")\n",
    "\n",
    "# Visualize the .glb file\n",
    "o3d.visualization.draw_geometries([mesh])\n"
   ]
  },
  {
   "cell_type": "code",
   "execution_count": 1,
   "metadata": {},
   "outputs": [
    {
     "name": "stdout",
     "output_type": "stream",
     "text": [
      "Relative Transformation (slam-R with respect to slam-L):\n",
      "[[ 0.99836471 -0.03532317  0.04494634  0.00567676]\n",
      " [ 0.05208901  0.23820291 -0.96981757 -0.11215309]\n",
      " [ 0.02355068  0.97057285  0.23965332 -0.08683892]\n",
      " [ 0.          0.          0.          1.        ]]\n",
      "\n",
      "Relative Transformation (RGB with respect to slam-L):\n",
      "[[ 0.99339134 -0.05150564  0.10257099 -0.00428072]\n",
      " [ 0.10364322  0.78649219 -0.60884162 -0.01184173]\n",
      " [-0.04931251  0.61544878  0.78663275 -0.00511398]\n",
      " [ 0.          0.          0.          1.        ]]\n"
     ]
    }
   ],
   "source": [
    "import numpy as np\n",
    "\n",
    "# Define the homogeneous transformation matrices\n",
    "slam_L = np.array([\n",
    "    [ 1.00000000e+00,  0.00000000e+00,  0.00000000e+00,  0.00000000e+00],\n",
    "    [ 0.00000000e+00,  1.00000000e+00,  0.00000000e+00, -4.16333634e-17],\n",
    "    [ 0.00000000e+00,  0.00000000e+00,  1.00000000e+00, -1.04083409e-17],\n",
    "    [ 0.00000000e+00,  0.00000000e+00,  0.00000000e+00,  1.00000000e+00]\n",
    "])\n",
    "\n",
    "slam_R = np.array([\n",
    "    [ 0.99836471, -0.03532317,  0.04494634,  0.00567676],\n",
    "    [ 0.05208901,  0.23820291, -0.96981757, -0.11215309],\n",
    "    [ 0.02355068,  0.97057285,  0.23965332, -0.08683892],\n",
    "    [ 0.0, 0.0, 0.0, 1.0]\n",
    "])\n",
    "\n",
    "rgb = np.array([\n",
    "    [ 0.99339134, -0.05150564,  0.10257099, -0.00428072],\n",
    "    [ 0.10364322,  0.78649219, -0.60884162, -0.01184173],\n",
    "    [-0.04931251,  0.61544878,  0.78663275, -0.00511398],\n",
    "    [ 0.0, 0.0, 0.0, 1.0]\n",
    "])\n",
    "\n",
    "# Convert to relative transformations with respect to slam_L\n",
    "def extract_relative_pose(base_pose, other_pose):\n",
    "    return np.linalg.inv(base_pose).dot(other_pose)\n",
    "\n",
    "# Calculate relative transformations\n",
    "relative_slam_R = extract_relative_pose(slam_L, slam_R)\n",
    "relative_rgb = extract_relative_pose(slam_L, rgb)\n",
    "\n",
    "# Output the relative transformations\n",
    "print(\"Relative Transformation (slam-R with respect to slam-L):\")\n",
    "print(relative_slam_R)\n",
    "\n",
    "print(\"\\nRelative Transformation (RGB with respect to slam-L):\")\n",
    "print(relative_rgb)\n"
   ]
  },
  {
   "cell_type": "code",
   "execution_count": null,
   "metadata": {},
   "outputs": [],
   "source": [
    "# For SLAM-R what is the translation in meters and the rotation in degrees around the z-axis?\n",
    "\n",
    "def get_translation_and_rotation(matrix):\n",
    "    translation = matrix[:3, 3]\n",
    "    rotation = np.degrees(np.arctan2(matrix[1, 0], matrix[0, 0]))\n",
    "    return translation, rotation\n"
   ]
  }
 ],
 "metadata": {
  "kernelspec": {
   "display_name": "dust3r",
   "language": "python",
   "name": "python3"
  },
  "language_info": {
   "codemirror_mode": {
    "name": "ipython",
    "version": 3
   },
   "file_extension": ".py",
   "mimetype": "text/x-python",
   "name": "python",
   "nbconvert_exporter": "python",
   "pygments_lexer": "ipython3",
   "version": "3.11.9"
  }
 },
 "nbformat": 4,
 "nbformat_minor": 2
}
